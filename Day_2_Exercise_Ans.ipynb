{
 "cells": [
  {
   "cell_type": "markdown",
   "metadata": {},
   "source": [
    "### The questions for the exercises are given above the cells and the expected output is given below the cell. Please type the code inserting a new cell below the question because if you run the expected output cell the output would vanish! Happy learning! "
   ]
  },
  {
   "cell_type": "markdown",
   "metadata": {},
   "source": [
    "## 1. Write a Python program to count the number of even and odd numbers from a series of numbers."
   ]
  },
  {
   "cell_type": "code",
   "execution_count": 8,
   "metadata": {},
   "outputs": [
    {
     "name": "stdout",
     "output_type": "stream",
     "text": [
      "enter how many numbers you want to enter\n",
      "4\n",
      "Enter number: 1\n",
      "7\n",
      "Enter number: 2\n",
      "8\n",
      "Enter number: 3\n",
      "6\n",
      "Enter number: 4\n",
      "4\n",
      "Entered Numbers: [7, 8, 6, 4]\n",
      "Even number count: 3\n",
      "Odd Number Count: 1\n"
     ]
    }
   ],
   "source": [
    "num_list = []\n",
    "print(\"enter how many numbers you want to enter\")\n",
    "lv_range = int(input())\n",
    "for i in range(lv_range):\n",
    "    print(\"Enter number:\",i+1)\n",
    "    num_list.append(int(input()))\n",
    "print(\"Entered Numbers:\",num_list)\n",
    "even_count = 0\n",
    "odd_count = 0\n",
    "def even_odd(a):\n",
    "    global even_count,odd_count\n",
    "    if a%2 == 0:\n",
    "        even_count = even_count + 1\n",
    "    else:\n",
    "        odd_count = odd_count + 1\n",
    "i=0\n",
    "\n",
    "for i in range(lv_range):\n",
    "    a = num_list[i]\n",
    "    even_odd(a)\n",
    "print(\"Even number count:\",even_count)\n",
    "print(\"Odd Number Count:\",odd_count)\n",
    "    "
   ]
  },
  {
   "cell_type": "markdown",
   "metadata": {},
   "source": [
    "## 2. Write a Python program to find numbers between 100 and 400 (both included) where each digit of a number is an even number. The numbers obtained should be printed in a comma-separated sequence."
   ]
  },
  {
   "cell_type": "code",
   "execution_count": 69,
   "metadata": {},
   "outputs": [
    {
     "name": "stdout",
     "output_type": "stream",
     "text": [
      "100 ,102 ,104 ,106 ,108 ,110 ,112 ,114 ,116 ,118 ,120 ,122 ,124 ,126 ,128 ,130 ,132 ,134 ,136 ,138 ,140 ,142 ,144 ,146 ,148 ,150 ,152 ,154 ,156 ,158 ,160 ,162 ,164 ,166 ,168 ,170 ,172 ,174 ,176 ,178 ,180 ,182 ,184 ,186 ,188 ,190 ,192 ,194 ,196 ,198 ,200 ,202 ,204 ,206 ,208 ,210 ,212 ,214 ,216 ,218 ,220 ,222 ,224 ,226 ,228 ,230 ,232 ,234 ,236 ,238 ,240 ,242 ,244 ,246 ,248 ,250 ,252 ,254 ,256 ,258 ,260 ,262 ,264 ,266 ,268 ,270 ,272 ,274 ,276 ,278 ,280 ,282 ,284 ,286 ,288 ,290 ,292 ,294 ,296 ,298 ,300 ,302 ,304 ,306 ,308 ,310 ,312 ,314 ,316 ,318 ,320 ,322 ,324 ,326 ,328 ,330 ,332 ,334 ,336 ,338 ,340 ,342 ,344 ,346 ,348 ,350 ,352 ,354 ,356 ,358 ,360 ,362 ,364 ,366 ,368 ,370 ,372 ,374 ,376 ,378 ,380 ,382 ,384 ,386 ,388 ,390 ,392 ,394 ,396 ,398 ,400\n"
     ]
    }
   ],
   "source": [
    "for i in range(100,401):\n",
    "    val = i%2\n",
    "    if val==0:\n",
    "        if(i==400):\n",
    "            print(i)\n",
    "        else:\n",
    "            print(i,\",\",end ='')\n",
    "    i = i+1"
   ]
  },
  {
   "cell_type": "markdown",
   "metadata": {},
   "source": [
    "## 3. Write a Python program to calculate a dog's age in dog's years. Go to the editor\n",
    "Note: For the first two years, a dog year is equal to 10.5 human years. After that, each dog year equals 4 human years."
   ]
  },
  {
   "cell_type": "code",
   "execution_count": 44,
   "metadata": {},
   "outputs": [
    {
     "name": "stdout",
     "output_type": "stream",
     "text": [
      "Input a dog age in human Years:20\n",
      "The Dog's age in Dogs Year: 93\n"
     ]
    }
   ],
   "source": [
    "dogage = int(input(\"Input a dog age in human Years:\",))\n",
    "lv_sub = dogage-2;\n",
    "lv_rest = lv_sub * 4\n",
    "lv_total = lv_rest + 21;\n",
    "print(\"The Dog's age in Dogs Year:\",lv_total)\n"
   ]
  },
  {
   "cell_type": "markdown",
   "metadata": {},
   "source": [
    "## 4. Write a Python function that takes a number as a parameter and check the number is prime or not."
   ]
  },
  {
   "cell_type": "code",
   "execution_count": 7,
   "metadata": {},
   "outputs": [
    {
     "name": "stdout",
     "output_type": "stream",
     "text": [
      "enter a number:11\n",
      "YES, Prime Number\n"
     ]
    }
   ],
   "source": [
    "a = int(input(\"enter a number:\",))\n",
    "count =0\n",
    "def prime_r_not(a):\n",
    "    global count\n",
    "    for i in range (1,a+1):\n",
    "        if a%i==0:\n",
    "            count=count+1\n",
    "        \n",
    "prime_r_not(a)\n",
    "if(count>2):\n",
    "    print(\"NOT a prime number\")\n",
    "else:\n",
    "    print(\"YES, Prime Number\")\n",
    "       "
   ]
  },
  {
   "cell_type": "markdown",
   "metadata": {},
   "source": [
    "## 5. Write a Python function that accepts a string and calculate the number of upper case letters and lower case letters. Go to the editor\n"
   ]
  },
  {
   "cell_type": "code",
   "execution_count": 30,
   "metadata": {},
   "outputs": [
    {
     "name": "stdout",
     "output_type": "stream",
     "text": [
      "enter a statement:12345\n",
      "Statement Length: 5\n",
      "Lower: 0\n",
      "Upper: 0\n",
      "Other: 5\n"
     ]
    }
   ],
   "source": [
    "string1 = input(\"enter a statement:\")\n",
    "lv_len = len(string1)\n",
    "print(\"Statement Length:\",lv_len)\n",
    "lv_lower = 0;\n",
    "lv_upper =0;\n",
    "lv_other=0;\n",
    "for i in range(lv_len):\n",
    "    lv_char = string1[i]\n",
    "    if lv_char.islower() == True:\n",
    "        lv_lower = lv_lower+1\n",
    "    elif lv_char.isupper() == True:\n",
    "        lv_upper = lv_upper+1\n",
    "    else:\n",
    "        lv_other = lv_other +1\n",
    "print(\"Lower:\",lv_lower)\n",
    "print(\"Upper:\",lv_upper)\n",
    "print(\"Other:\",lv_other)   \n"
   ]
  },
  {
   "cell_type": "markdown",
   "metadata": {},
   "source": [
    "## 6. Write a Python program to reverse a string. "
   ]
  },
  {
   "cell_type": "code",
   "execution_count": 32,
   "metadata": {},
   "outputs": [
    {
     "name": "stdout",
     "output_type": "stream",
     "text": [
      "enter a Name:dsdsg\n",
      "gsdsd\n"
     ]
    }
   ],
   "source": [
    "name = input(\"enter a Name:\")[::-1]\n",
    "print(name)\n"
   ]
  },
  {
   "cell_type": "markdown",
   "metadata": {},
   "source": [
    "## 7. Write a Python program to find  the greatest common divisor (gcd) of two integers."
   ]
  },
  {
   "cell_type": "code",
   "execution_count": 46,
   "metadata": {},
   "outputs": [
    {
     "name": "stdout",
     "output_type": "stream",
     "text": [
      "Enter first number: 12\n",
      "Enter second number: 6\n",
      "The G.C.D. of  12  and  6  is =  6\n"
     ]
    }
   ],
   "source": [
    "def GCD(x, y):\n",
    "    if x < y:\n",
    "        smaller = x\n",
    "    else:\n",
    "        smaller = y\n",
    "    for i in range(1, smaller+1):\n",
    "        if (x % i == 0) and (y % i == 0):\n",
    "            gcd = i\n",
    "    return gcd\n",
    "num1 = int(input(\"Enter first number: \"))\n",
    "num2 = int(input(\"Enter second number: \"))\n",
    "print(\"The G.C.D. of \", num1,\" and \", num2,\" is = \", GCD(num1, num2))"
   ]
  },
  {
   "cell_type": "code",
   "execution_count": null,
   "metadata": {},
   "outputs": [],
   "source": []
  }
 ],
 "metadata": {
  "kernelspec": {
   "display_name": "Python 3",
   "language": "python",
   "name": "python3"
  },
  "language_info": {
   "codemirror_mode": {
    "name": "ipython",
    "version": 3
   },
   "file_extension": ".py",
   "mimetype": "text/x-python",
   "name": "python",
   "nbconvert_exporter": "python",
   "pygments_lexer": "ipython3",
   "version": "3.8.5"
  }
 },
 "nbformat": 4,
 "nbformat_minor": 4
}
